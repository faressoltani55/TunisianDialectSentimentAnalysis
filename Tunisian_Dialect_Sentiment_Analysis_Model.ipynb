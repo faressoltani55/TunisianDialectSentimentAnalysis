{
  "nbformat": 4,
  "nbformat_minor": 0,
  "metadata": {
    "kernelspec": {
      "display_name": "Python 3",
      "language": "python",
      "name": "python3"
    },
    "language_info": {
      "codemirror_mode": {
        "name": "ipython",
        "version": 3
      },
      "file_extension": ".py",
      "mimetype": "text/x-python",
      "name": "python",
      "nbconvert_exporter": "python",
      "pygments_lexer": "ipython3",
      "version": "3.8.3"
    },
    "colab": {
      "name": "Pipline ICompass Zindi.ipynb",
      "provenance": [],
      "collapsed_sections": [],
      "include_colab_link": true
    }
  },
  "cells": [
    {
      "cell_type": "markdown",
      "metadata": {
        "id": "view-in-github",
        "colab_type": "text"
      },
      "source": [
        "<a href=\"https://colab.research.google.com/github/faressoltani55/TunisianDialectSentimentAnalysis/blob/main/Tunisian_Dialect_Sentiment_Analysis_Model\" target=\"_parent\"><img src=\"https://colab.research.google.com/assets/colab-badge.svg\" alt=\"Open In Colab\"/></a>"
      ]
    },
    {
      "cell_type": "code",
      "metadata": {
        "id": "fDui-j-upwfS"
      },
      "source": [
        "import pandas as pd\n",
        "import matplotlib.pyplot as plt\n",
        "import numpy as np\n",
        "import tensorflow as tf\n",
        "from tensorflow import keras\n",
        "from tensorflow.keras import layers"
      ],
      "execution_count": null,
      "outputs": []
    },
    {
      "cell_type": "code",
      "metadata": {
        "id": "2s02YHh2pxiF"
      },
      "source": [
        "!pip install -U -q PyDrive\n",
        "from pydrive.auth import GoogleAuth\n",
        "from pydrive.drive import GoogleDrive\n",
        "from google.colab import auth\n",
        "from oauth2client.client import GoogleCredentials"
      ],
      "execution_count": null,
      "outputs": []
    },
    {
      "cell_type": "code",
      "metadata": {
        "id": "yZqQoi29pyI2"
      },
      "source": [
        "auth.authenticate_user()\n",
        "gauth = GoogleAuth()\n",
        "gauth.credentials = GoogleCredentials.get_application_default()\n",
        "drive = GoogleDrive(gauth)\n",
        "#4/1AY0e-g78_yQ6WVxOlZHbWuqGdYx7p2M7dJ0lE3-zvnulX8d4Ge08dg8xakk"
      ],
      "execution_count": null,
      "outputs": []
    },
    {
      "cell_type": "code",
      "metadata": {
        "id": "8Bd9cdZ-pyMK"
      },
      "source": [
        "downloaded = drive.CreateFile({'id':'1ewAp60aj9AgC0PqPMBuYBwwVO9peaFTR'}) # replace the id with id of file you want to access\n",
        "downloaded.GetContentFile('Train.csv')\n",
        "downloaded = drive.CreateFile({'id':'1i5WfgpAlGYp33k3Pxwq3J02kJiPsilBZ'}) # replace the id with id of file you want to access\n",
        "downloaded.GetContentFile('Test.csv')"
      ],
      "execution_count": null,
      "outputs": []
    },
    {
      "cell_type": "code",
      "metadata": {
        "id": "z8_nbCPopwfY"
      },
      "source": [
        "train_ds = pd.read_csv('Train.csv')\n",
        "test_ds = pd.read_csv('Test.csv')"
      ],
      "execution_count": null,
      "outputs": []
    },
    {
      "cell_type": "code",
      "metadata": {
        "id": "t6-RDHTJpwfZ",
        "colab": {
          "base_uri": "https://localhost:8080/"
        },
        "outputId": "32b7ac51-f80e-4655-c523-a5fd322cd524"
      },
      "source": [
        "print(train_ds.shape)\n",
        "print(test_ds.shape)"
      ],
      "execution_count": null,
      "outputs": [
        {
          "output_type": "stream",
          "text": [
            "(70000, 3)\n",
            "(30000, 2)\n"
          ],
          "name": "stdout"
        }
      ]
    },
    {
      "cell_type": "code",
      "metadata": {
        "id": "6to8GnDipwfa",
        "colab": {
          "base_uri": "https://localhost:8080/"
        },
        "outputId": "a31f9093-abb4-4e0d-b06d-063780302308"
      },
      "source": [
        "print(train_ds.head())\n",
        "print(test_ds.head())"
      ],
      "execution_count": null,
      "outputs": [
        {
          "output_type": "stream",
          "text": [
            "        ID                                               text  label\n",
            "0  13P0QT0  3sbaaaaaaaaaaaaaaaaaaaa lek ou le seim riahi o...     -1\n",
            "1  SKCLXCJ       cha3eb fey9elkoum menghir ta7ayoul ou kressi     -1\n",
            "2  V1TVXIJ  bereau degage nathef ya slim walahi ya7chiw fi...     -1\n",
            "3  U0TTYY8                                          ak slouma      1\n",
            "4  68DX797  entom titmanou lina a7na 3iid moubarik a7na ch...     -1\n",
            "        ID                                               text\n",
            "0  2DDHQW9   barcha aaindou fiha hak w barcha teflim kadhalik\n",
            "1  5HY6UEY                               ye gernabou ye 9a7ba\n",
            "2  ATNVUJX                     saber w barra rabbi m3ak 5ouya\n",
            "3  Q9XYVOQ               cha3ébbb ta7aaaaannnnnnnnnnn tfouuhh\n",
            "4  TOAHLRH  rabi y5alihoulek w yfar7ek bih w inchallah itc...\n"
          ],
          "name": "stdout"
        }
      ]
    },
    {
      "cell_type": "code",
      "metadata": {
        "id": "NJCdAy1qpwfa"
      },
      "source": [
        "training_leb = []\n",
        "for l in train_ds.label:\n",
        "    i = 1;\n",
        "    if l == -1:\n",
        "        i=0\n",
        "    training_leb.append(i)\n",
        "\n",
        "train_ds.drop(columns = ['label'], inplace = True)\n",
        "train_ds['label'] = training_leb"
      ],
      "execution_count": null,
      "outputs": []
    },
    {
      "cell_type": "code",
      "metadata": {
        "id": "GflbtcRupwfa",
        "colab": {
          "base_uri": "https://localhost:8080/"
        },
        "outputId": "cc6ea161-6e75-4535-80d1-1c3de1860e4b"
      },
      "source": [
        "print(train_ds.head())\n",
        "print(test_ds.head())"
      ],
      "execution_count": null,
      "outputs": [
        {
          "output_type": "stream",
          "text": [
            "        ID                                               text  label\n",
            "0  13P0QT0  3sbaaaaaaaaaaaaaaaaaaaa lek ou le seim riahi o...      0\n",
            "1  SKCLXCJ       cha3eb fey9elkoum menghir ta7ayoul ou kressi      0\n",
            "2  V1TVXIJ  bereau degage nathef ya slim walahi ya7chiw fi...      0\n",
            "3  U0TTYY8                                          ak slouma      1\n",
            "4  68DX797  entom titmanou lina a7na 3iid moubarik a7na ch...      0\n",
            "        ID                                               text\n",
            "0  2DDHQW9   barcha aaindou fiha hak w barcha teflim kadhalik\n",
            "1  5HY6UEY                               ye gernabou ye 9a7ba\n",
            "2  ATNVUJX                     saber w barra rabbi m3ak 5ouya\n",
            "3  Q9XYVOQ               cha3ébbb ta7aaaaannnnnnnnnnn tfouuhh\n",
            "4  TOAHLRH  rabi y5alihoulek w yfar7ek bih w inchallah itc...\n"
          ],
          "name": "stdout"
        }
      ]
    },
    {
      "cell_type": "code",
      "metadata": {
        "id": "go4KjJFNpwfb"
      },
      "source": [
        "import re\n",
        "import string\n",
        "import unicodedata\n",
        "\n",
        "def lower_text(text):\n",
        "    return text.lower()\n",
        "\n",
        "def remove_emails(x):\n",
        "     return re.sub(r'([a-z0-9+._-]+@[a-z0-9+._-]+\\.[a-z0-9+_-]+)',\"\", x)\n",
        "\n",
        "\n",
        "def remove_urls(x):\n",
        "    return re.sub(r'(http|https|ftp|ssh)://([\\w_-]+(?:(?:\\.[\\w_-]+)+))([\\w.,@?^=%&:/~+#-]*[\\w@?^=%&/~+#-])?', '' , x)\n",
        "\n",
        "def remove_rt(x):\n",
        "    return re.sub(r'\\brt\\b', '', x).strip()\n",
        "\n",
        "def remove_special_chars(x):\n",
        "    x = re.sub(r'[^\\w ]+', \"\", x)\n",
        "    x = ' '.join(x.split())\n",
        "    return x\n",
        "\n",
        "\n",
        "def remove_accented_chars(x):\n",
        "    x = unicodedata.normalize('NFKD', x).encode('ascii', 'ignore').decode('utf-8', 'ignore')\n",
        "    return x"
      ],
      "execution_count": null,
      "outputs": []
    },
    {
      "cell_type": "code",
      "metadata": {
        "id": "7tjamRJnpwfb"
      },
      "source": [
        "train_ds[\"text\"] = train_ds.text.map(lower_text)\n",
        "test_ds[\"text\"] = test_ds.text.map(lower_text)\n",
        "\n",
        "train_ds[\"text\"] = train_ds.text.map(remove_emails)\n",
        "train_ds[\"text\"] = train_ds.text.map(remove_urls)\n",
        "train_ds[\"text\"] = train_ds.text.map(remove_rt)\n",
        "train_ds[\"text\"] = train_ds.text.map(remove_special_chars)\n",
        "train_ds[\"text\"] = train_ds.text.map(remove_accented_chars)\n",
        "\n",
        "test_ds[\"text\"] = test_ds.text.map(remove_emails)\n",
        "test_ds[\"text\"] = test_ds.text.map(remove_urls)\n",
        "test_ds[\"text\"] = test_ds.text.map(remove_rt)\n",
        "test_ds[\"text\"] = test_ds.text.map(remove_special_chars)\n",
        "test_ds[\"text\"] = test_ds.text.map(remove_accented_chars)"
      ],
      "execution_count": null,
      "outputs": []
    },
    {
      "cell_type": "code",
      "metadata": {
        "id": "04FzxZV5pwfb",
        "colab": {
          "base_uri": "https://localhost:8080/"
        },
        "outputId": "0ee3071a-bf23-4a02-be5b-852e4a3cf9df"
      },
      "source": [
        "print(train_ds.head())\n",
        "print(test_ds.head())"
      ],
      "execution_count": null,
      "outputs": [
        {
          "output_type": "stream",
          "text": [
            "        ID                                               text  label\n",
            "0  13P0QT0  3sbaaaaaaaaaaaaaaaaaaaa lek ou le seim riahi o...      0\n",
            "1  SKCLXCJ       cha3eb fey9elkoum menghir ta7ayoul ou kressi      0\n",
            "2  V1TVXIJ  bereau degage nathef ya slim walahi ya7chiw fi...      0\n",
            "3  U0TTYY8                                          ak slouma      1\n",
            "4  68DX797  entom titmanou lina a7na 3iid moubarik a7na ch...      0\n",
            "        ID                                               text\n",
            "0  2DDHQW9   barcha aaindou fiha hak w barcha teflim kadhalik\n",
            "1  5HY6UEY                               ye gernabou ye 9a7ba\n",
            "2  ATNVUJX                     saber w barra rabbi m3ak 5ouya\n",
            "3  Q9XYVOQ               cha3ebbb ta7aaaaannnnnnnnnnn tfouuhh\n",
            "4  TOAHLRH  rabi y5alihoulek w yfar7ek bih w inchallah itc...\n"
          ],
          "name": "stdout"
        }
      ]
    },
    {
      "cell_type": "code",
      "metadata": {
        "id": "tkYgAhJopwfc"
      },
      "source": [
        "from itertools import groupby\n",
        "def reshape_words(text):\n",
        "    words = text.split()\n",
        "    for word in words:\n",
        "        i = words.index(word)\n",
        "        chars = [ch for ch in words[i]]\n",
        "        chars = [x[0] for x in groupby(chars)]\n",
        "        words[i] = \"\".join(chars)\n",
        "    return \" \".join(words)\n",
        "\n",
        "train_ds[\"text\"] = train_ds.text.map(reshape_words)\n",
        "test_ds[\"text\"] = test_ds.text.map(reshape_words)"
      ],
      "execution_count": null,
      "outputs": []
    },
    {
      "cell_type": "code",
      "metadata": {
        "id": "TJv67R1jpwfc",
        "colab": {
          "base_uri": "https://localhost:8080/",
          "height": 195
        },
        "outputId": "891601f3-62ba-402d-cfac-3c05f1534f03"
      },
      "source": [
        "test_ds.head()"
      ],
      "execution_count": null,
      "outputs": [
        {
          "output_type": "execute_result",
          "data": {
            "text/html": [
              "<div>\n",
              "<style scoped>\n",
              "    .dataframe tbody tr th:only-of-type {\n",
              "        vertical-align: middle;\n",
              "    }\n",
              "\n",
              "    .dataframe tbody tr th {\n",
              "        vertical-align: top;\n",
              "    }\n",
              "\n",
              "    .dataframe thead th {\n",
              "        text-align: right;\n",
              "    }\n",
              "</style>\n",
              "<table border=\"1\" class=\"dataframe\">\n",
              "  <thead>\n",
              "    <tr style=\"text-align: right;\">\n",
              "      <th></th>\n",
              "      <th>ID</th>\n",
              "      <th>text</th>\n",
              "    </tr>\n",
              "  </thead>\n",
              "  <tbody>\n",
              "    <tr>\n",
              "      <th>0</th>\n",
              "      <td>2DDHQW9</td>\n",
              "      <td>barcha aindou fiha hak w barcha teflim kadhalik</td>\n",
              "    </tr>\n",
              "    <tr>\n",
              "      <th>1</th>\n",
              "      <td>5HY6UEY</td>\n",
              "      <td>ye gernabou ye 9a7ba</td>\n",
              "    </tr>\n",
              "    <tr>\n",
              "      <th>2</th>\n",
              "      <td>ATNVUJX</td>\n",
              "      <td>saber w bara rabi m3ak 5ouya</td>\n",
              "    </tr>\n",
              "    <tr>\n",
              "      <th>3</th>\n",
              "      <td>Q9XYVOQ</td>\n",
              "      <td>cha3eb ta7an tfouh</td>\n",
              "    </tr>\n",
              "    <tr>\n",
              "      <th>4</th>\n",
              "      <td>TOAHLRH</td>\n",
              "      <td>rabi y5alihoulek w yfar7ek bih w inchalah itch...</td>\n",
              "    </tr>\n",
              "  </tbody>\n",
              "</table>\n",
              "</div>"
            ],
            "text/plain": [
              "        ID                                               text\n",
              "0  2DDHQW9    barcha aindou fiha hak w barcha teflim kadhalik\n",
              "1  5HY6UEY                               ye gernabou ye 9a7ba\n",
              "2  ATNVUJX                       saber w bara rabi m3ak 5ouya\n",
              "3  Q9XYVOQ                                 cha3eb ta7an tfouh\n",
              "4  TOAHLRH  rabi y5alihoulek w yfar7ek bih w inchalah itch..."
            ]
          },
          "metadata": {
            "tags": []
          },
          "execution_count": 14
        }
      ]
    },
    {
      "cell_type": "code",
      "metadata": {
        "id": "fOu2UOWtpwfc"
      },
      "source": [
        "from collections import Counter\n",
        "\n",
        "# Count unique words\n",
        "def counter_word(text_col):\n",
        "    count = Counter()\n",
        "    for text in text_col.values:\n",
        "        for word in text.split():\n",
        "            count[word] += 1\n",
        "    return count\n",
        "\n",
        "# Count unique words\n",
        "def counter_word_from_list(text_col):\n",
        "    count = Counter()\n",
        "    for text in text_col:\n",
        "        for word in text.split():\n",
        "            count[word] += 1\n",
        "    return count"
      ],
      "execution_count": null,
      "outputs": []
    },
    {
      "cell_type": "code",
      "metadata": {
        "id": "eSQGZoNtIy9k"
      },
      "source": [
        "def remove_special(text):\n",
        "  filtered_words = [word for word in text.split()]\n",
        "  for i in range(len(filtered_words)):\n",
        "    chars = [char for char in filtered_words[i]]\n",
        "    for j in range(len(chars)):\n",
        "      if chars[j] == \"1\" or chars[j] == \"2\":\n",
        "        chars[j] = \"a\"\n",
        "      elif chars[j] == \"4\":\n",
        "        chars[j] = \"dh\"\n",
        "      elif chars[j] == \"5\":\n",
        "        chars[j] = \"kh\"\n",
        "      elif chars[j] == \"7\":\n",
        "        chars[j] = \"h\"\n",
        "      elif chars[j] == \"8\":\n",
        "        chars[j] = \"gh\"\n",
        "      elif chars[j] == \"9\":\n",
        "        chars[j] = \"k\"\n",
        "    filtered_words[i] = \"\".join(chars)\n",
        "  return \" \".join(filtered_words)\n",
        "\n",
        "train_ds[\"text\"] = train_ds.text.map(remove_special)\n",
        "test_ds[\"text\"] = test_ds.text.map(remove_special)"
      ],
      "execution_count": null,
      "outputs": []
    },
    {
      "cell_type": "code",
      "metadata": {
        "id": "xR7WOWgyD95n"
      },
      "source": [
        "def regroup_words(text):\n",
        "    text = text.lower()\n",
        "    filtered_words = [word for word in text.split()]\n",
        "    for i in range(len(filtered_words)):\n",
        "      if filtered_words[i] == \"ou\" or filtered_words[i] == \"we\" or filtered_words[i] == \"wa\" or filtered_words[i] == \"wou\":\n",
        "        filtered_words[i] = \"w\"\n",
        "      elif filtered_words[i] == \"mn\" or filtered_words[i] == \"min\":\n",
        "        filtered_words[i] = \"men\"\n",
        "      elif filtered_words[i] == \"eni\" or filtered_words[i] == \"ena\" or filtered_words[i] == \"ani\":\n",
        "        filtered_words[i] = \"ana\"\n",
        "      elif filtered_words[i] == \"elli\" or filtered_words[i] == \"illi\" or filtered_words[i] == \"ili\" or filtered_words[i] == \"l\" or filtered_words[i] == \"le\" or filtered_words[i] == \"il\" or filtered_words[i] == \"el\":\n",
        "        filtered_words[i] = \"li\"\n",
        "      elif filtered_words[i] == \"alah\":\n",
        "        filtered_words[i] = \"allah\"\n",
        "      elif filtered_words[i] == \"m3k\":\n",
        "        filtered_words[i] = \"m3ak\"\n",
        "      elif filtered_words[i] == \"f\" or filtered_words[i] == \"fe\" or filtered_words[i] == \"fel\" or filtered_words[i] == \"fil\":\n",
        "        filtered_words[i] = \"fi\"\n",
        "      elif filtered_words[i] == \"bil\" or filtered_words[i] == \"b\" or filtered_words[i] == \"be\":\n",
        "        filtered_words[i] = \"bel\"\n",
        "      elif filtered_words[i] == \"lek\":\n",
        "        filtered_words[i] = \"lik\"\n",
        "      elif filtered_words[i] == \"asba\" or filtered_words[i] == \"3sba\":\n",
        "        filtered_words[i] = \"3asba\"\n",
        "    return \" \".join(filtered_words)\n",
        "\n",
        "train_ds[\"text\"] = train_ds.text.map(regroup_words)\n",
        "test_ds[\"text\"] = test_ds.text.map(regroup_words)"
      ],
      "execution_count": null,
      "outputs": []
    },
    {
      "cell_type": "code",
      "metadata": {
        "id": "pPDq4mUnpwfc"
      },
      "source": [
        "counter = counter_word(train_ds.text)"
      ],
      "execution_count": null,
      "outputs": []
    },
    {
      "cell_type": "code",
      "metadata": {
        "id": "o0PskJFbG27P",
        "colab": {
          "base_uri": "https://localhost:8080/",
          "height": 195
        },
        "outputId": "909e52c8-3f33-4ef6-9e23-12dda9c879ad"
      },
      "source": [
        "train_ds.head()"
      ],
      "execution_count": null,
      "outputs": [
        {
          "output_type": "execute_result",
          "data": {
            "text/html": [
              "<div>\n",
              "<style scoped>\n",
              "    .dataframe tbody tr th:only-of-type {\n",
              "        vertical-align: middle;\n",
              "    }\n",
              "\n",
              "    .dataframe tbody tr th {\n",
              "        vertical-align: top;\n",
              "    }\n",
              "\n",
              "    .dataframe thead th {\n",
              "        text-align: right;\n",
              "    }\n",
              "</style>\n",
              "<table border=\"1\" class=\"dataframe\">\n",
              "  <thead>\n",
              "    <tr style=\"text-align: right;\">\n",
              "      <th></th>\n",
              "      <th>ID</th>\n",
              "      <th>text</th>\n",
              "      <th>label</th>\n",
              "    </tr>\n",
              "  </thead>\n",
              "  <tbody>\n",
              "    <tr>\n",
              "      <th>0</th>\n",
              "      <td>13P0QT0</td>\n",
              "      <td>3asba lik w li seim riahi w 3asba li ca</td>\n",
              "      <td>0</td>\n",
              "    </tr>\n",
              "    <tr>\n",
              "      <th>1</th>\n",
              "      <td>SKCLXCJ</td>\n",
              "      <td>cha3eb feykelkoum menghir tahayoul w kresi</td>\n",
              "      <td>0</td>\n",
              "    </tr>\n",
              "    <tr>\n",
              "      <th>2</th>\n",
              "      <td>V1TVXIJ</td>\n",
              "      <td>bereau degage nathef ya slim walahi yahchiw fi...</td>\n",
              "      <td>0</td>\n",
              "    </tr>\n",
              "    <tr>\n",
              "      <th>3</th>\n",
              "      <td>U0TTYY8</td>\n",
              "      <td>ak slouma</td>\n",
              "      <td>1</td>\n",
              "    </tr>\n",
              "    <tr>\n",
              "      <th>4</th>\n",
              "      <td>68DX797</td>\n",
              "      <td>entom titmanou lina ahna 3id moubarik ahna cha...</td>\n",
              "      <td>0</td>\n",
              "    </tr>\n",
              "  </tbody>\n",
              "</table>\n",
              "</div>"
            ],
            "text/plain": [
              "        ID                                               text  label\n",
              "0  13P0QT0            3asba lik w li seim riahi w 3asba li ca      0\n",
              "1  SKCLXCJ         cha3eb feykelkoum menghir tahayoul w kresi      0\n",
              "2  V1TVXIJ  bereau degage nathef ya slim walahi yahchiw fi...      0\n",
              "3  U0TTYY8                                          ak slouma      1\n",
              "4  68DX797  entom titmanou lina ahna 3id moubarik ahna cha...      0"
            ]
          },
          "metadata": {
            "tags": []
          },
          "execution_count": 19
        }
      ]
    },
    {
      "cell_type": "code",
      "metadata": {
        "id": "KYA6fW2wpwfd",
        "colab": {
          "base_uri": "https://localhost:8080/"
        },
        "outputId": "354de2b0-0b85-4f56-eb2f-1f54a0a1c58a"
      },
      "source": [
        "import nltk\n",
        "nltk.download(\"stopwords\")\n",
        "from nltk.corpus import stopwords\n",
        "frstop = stopwords.words('french')\n",
        "\n",
        "def remove_stopwords(text):\n",
        "    text = text.lower()\n",
        "    filtered_words = [word for word in text.split() if word not in frstop]\n",
        "    return \" \".join(filtered_words)\n",
        "\n",
        "def lower_text(text):\n",
        "    return text.lower()"
      ],
      "execution_count": null,
      "outputs": [
        {
          "output_type": "stream",
          "text": [
            "[nltk_data] Downloading package stopwords to /root/nltk_data...\n",
            "[nltk_data]   Unzipping corpora/stopwords.zip.\n"
          ],
          "name": "stdout"
        }
      ]
    },
    {
      "cell_type": "code",
      "metadata": {
        "id": "30-N0-dapwfd"
      },
      "source": [
        "train_ds[\"text\"] = train_ds.text.map(remove_stopwords)\n",
        "test_ds[\"text\"] = test_ds.text.map(remove_stopwords)"
      ],
      "execution_count": null,
      "outputs": []
    },
    {
      "cell_type": "code",
      "metadata": {
        "id": "b8MbeKPxpwfd",
        "colab": {
          "base_uri": "https://localhost:8080/"
        },
        "outputId": "fdeaf3d6-1c86-4314-93d7-f97d8919340a"
      },
      "source": [
        "print(train_ds.head())\n",
        "print(test_ds.head())"
      ],
      "execution_count": null,
      "outputs": [
        {
          "output_type": "stream",
          "text": [
            "        ID                                               text  label\n",
            "0  13P0QT0            3asba lik w li seim riahi w 3asba li ca      0\n",
            "1  SKCLXCJ         cha3eb feykelkoum menghir tahayoul w kresi      0\n",
            "2  V1TVXIJ  bereau degage nathef ya slim walahi yahchiw fi...      0\n",
            "3  U0TTYY8                                          ak slouma      1\n",
            "4  68DX797  entom titmanou lina ahna 3id moubarik ahna cha...      0\n",
            "        ID                                               text\n",
            "0  2DDHQW9    barcha aindou fiha hak w barcha teflim kadhalik\n",
            "1  5HY6UEY                               ye gernabou ye kahba\n",
            "2  ATNVUJX                      saber w bara rabi m3ak khouya\n",
            "3  Q9XYVOQ                                 cha3eb tahan tfouh\n",
            "4  TOAHLRH  rabi ykhalihoulek w yfarhek bih w inchalah itc...\n"
          ],
          "name": "stdout"
        }
      ]
    },
    {
      "cell_type": "code",
      "metadata": {
        "id": "96FsIKXIpwfd"
      },
      "source": [
        "def remove_useless(text):\n",
        "    filtered_words = [word for word in text.split() if len(word)>3 or word == \"nik\" or word == \"si\" or word == \"ok\" or word == \"het\"]\n",
        "    return \" \".join(filtered_words)"
      ],
      "execution_count": null,
      "outputs": []
    },
    {
      "cell_type": "code",
      "metadata": {
        "id": "aFXaIsXIuCa9"
      },
      "source": [
        "train_ds[\"text\"] = train_ds.text.map(remove_useless)\n",
        "test_ds[\"text\"] = test_ds.text.map(remove_useless)"
      ],
      "execution_count": null,
      "outputs": []
    },
    {
      "cell_type": "code",
      "metadata": {
        "id": "lPXMhRjgpwfe",
        "colab": {
          "base_uri": "https://localhost:8080/"
        },
        "outputId": "b91e3ffc-9ecb-42f0-9b3b-c133a3e3d6c6"
      },
      "source": [
        "all_sentences = list(train_ds.text) + list(test_ds.text)\n",
        "counter = counter_word_from_list(all_sentences)\n",
        "counter.most_common()"
      ],
      "execution_count": null,
      "outputs": [
        {
          "output_type": "execute_result",
          "data": {
            "text/plain": [
              "[('rabi', 11928),\n",
              " ('slim', 10183),\n",
              " ('si', 5202),\n",
              " ('bravo', 5044),\n",
              " ('bech', 4587),\n",
              " ('allah', 4564),\n",
              " ('m3ak', 4246),\n",
              " ('slouma', 3320),\n",
              " ('hata', 2429),\n",
              " ('barcha', 2422),\n",
              " ('mala', 2272),\n",
              " ('enti', 2219),\n",
              " ('tounes', 2207),\n",
              " ('khir', 2180),\n",
              " ('mabrouk', 2139),\n",
              " ('3ala', 2125),\n",
              " ('brabi', 2082),\n",
              " ('tawa', 2065),\n",
              " ('m3alem', 2043),\n",
              " ('dima', 1998),\n",
              " ('riahi', 1944),\n",
              " ('nchalah', 1846),\n",
              " ('ahna', 1828),\n",
              " ('haja', 1822),\n",
              " ('bara', 1806),\n",
              " ('wala', 1804),\n",
              " ('mouch', 1764),\n",
              " ('chay', 1760),\n",
              " ('club', 1659),\n",
              " ('walah', 1657),\n",
              " ('3lik', 1635),\n",
              " ('inchalah', 1487),\n",
              " ('chkoun', 1447),\n",
              " ('kima', 1410),\n",
              " ('haka', 1385),\n",
              " ('rajel', 1299),\n",
              " ('inti', 1240),\n",
              " ('mta3', 1224),\n",
              " ('fama', 1200),\n",
              " ('lkol', 1167),\n",
              " ('president', 1100),\n",
              " ('cha3b', 1040),\n",
              " ('howa', 1029),\n",
              " ('flous', 1029),\n",
              " ('khater', 1028),\n",
              " ('fiha', 904),\n",
              " ('tunis', 894),\n",
              " ('bled', 876),\n",
              " ('belehi', 871),\n",
              " ('3lina', 867),\n",
              " ('merci', 849),\n",
              " ('tounis', 826),\n",
              " ('dawla', 816),\n",
              " ('hedha', 803),\n",
              " ('rana', 794),\n",
              " ('jam3iya', 788),\n",
              " ('3lih', 788),\n",
              " ('saha', 783),\n",
              " ('bien', 770),\n",
              " ('wela', 769),\n",
              " ('shih', 735),\n",
              " ('wahed', 721),\n",
              " ('ahla', 715),\n",
              " ('houwa', 711),\n",
              " ('kbal', 699),\n",
              " ('mara', 689),\n",
              " ('klem', 687),\n",
              " ('houma', 675),\n",
              " ('wenti', 660),\n",
              " ('mech', 647),\n",
              " ('theb', 645),\n",
              " ('marzouki', 640),\n",
              " ('rouhek', 638),\n",
              " ('mela', 631),\n",
              " ('rahou', 618),\n",
              " ('vive', 613),\n",
              " ('nchala', 613),\n",
              " ('patron', 613),\n",
              " ('jam3ia', 612),\n",
              " ('degage', 609),\n",
              " ('tahki', 607),\n",
              " ('chwaya', 591),\n",
              " ('bone', 590),\n",
              " ('3asba', 587),\n",
              " ('moch', 583),\n",
              " ('hedhi', 580),\n",
              " ('walahi', 573),\n",
              " ('yarhmou', 573),\n",
              " ('khali', 567),\n",
              " ('ok', 546),\n",
              " ('yekhi', 539),\n",
              " ('weld', 537),\n",
              " ('nhar', 536),\n",
              " ('kbir', 535),\n",
              " ('zebi', 526),\n",
              " ('rais', 522),\n",
              " ('feha', 520),\n",
              " ('alik', 513),\n",
              " ('wehed', 513),\n",
              " ('aime', 513),\n",
              " ('chouf', 510),\n",
              " ('sami', 506),\n",
              " ('m3ana', 502),\n",
              " ('enchalah', 502),\n",
              " ('rahi', 501),\n",
              " ('hetha', 500),\n",
              " ('3bed', 498),\n",
              " ('jomhour', 497),\n",
              " ('nheb', 494),\n",
              " ('bach', 491),\n",
              " ('hiya', 491),\n",
              " ('enta', 490),\n",
              " ('nik', 490),\n",
              " ('3lech', 489),\n",
              " ('ahsen', 485),\n",
              " ('zeda', 484),\n",
              " ('raais', 476),\n",
              " ('kifech', 474),\n",
              " ('rjel', 473),\n",
              " ('akber', 473),\n",
              " ('yeser', 472),\n",
              " ('behi', 469),\n",
              " ('okhra', 457),\n",
              " ('lefriki', 456),\n",
              " ('koul', 453),\n",
              " ('page', 453),\n",
              " ('omek', 449),\n",
              " ('raby', 446),\n",
              " ('taraji', 445),\n",
              " ('tunisie', 444),\n",
              " ('akther', 443),\n",
              " ('kalou', 443),\n",
              " ('tfouh', 441),\n",
              " ('elkol', 438),\n",
              " ('tounsi', 437),\n",
              " ('mte3', 437),\n",
              " ('khouya', 436),\n",
              " ('plus', 433),\n",
              " ('weli', 432),\n",
              " ('belahi', 431),\n",
              " ('ekhdem', 428),\n",
              " ('ba3d', 427),\n",
              " ('tahan', 426),\n",
              " ('vraiment', 425),\n",
              " ('wahdek', 422),\n",
              " ('kahba', 422),\n",
              " ('sahbi', 420),\n",
              " ('m3ah', 418),\n",
              " ('koura', 418),\n",
              " ('khedma', 416),\n",
              " ('lebled', 415),\n",
              " ('yezi', 415),\n",
              " ('3andou', 415),\n",
              " ('kbira', 413),\n",
              " ('ta3mel', 406),\n",
              " ('donc', 402),\n",
              " ('klay', 401),\n",
              " ('lifriki', 398),\n",
              " ('africain', 394),\n",
              " ('sayeb', 393),\n",
              " ('nchlh', 392),\n",
              " ('enes', 392),\n",
              " ('tkoun', 391),\n",
              " ('fihom', 391),\n",
              " ('cha3eb', 389),\n",
              " ('farkh', 389),\n",
              " ('yheb', 387),\n",
              " ('hram', 385),\n",
              " ('tahana', 385),\n",
              " ('kolna', 382),\n",
              " ('awel', 382),\n",
              " ('jdid', 380),\n",
              " ('mahlek', 380),\n",
              " ('tkoul', 379),\n",
              " ('bkhir', 378),\n",
              " ('hethi', 374),\n",
              " ('hadha', 369),\n",
              " ('hala', 367),\n",
              " ('wled', 366),\n",
              " ('courage', 366),\n",
              " ('akwa', 366),\n",
              " ('3likom', 365),\n",
              " ('fikom', 362),\n",
              " ('tres', 362),\n",
              " ('rani', 361),\n",
              " ('snin', 360),\n",
              " ('wahda', 359),\n",
              " ('biha', 357),\n",
              " ('yahki', 355),\n",
              " ('kalb', 354),\n",
              " ('labes', 352),\n",
              " ('ya3mel', 352),\n",
              " ('rouhou', 348),\n",
              " ('wakt', 348),\n",
              " ('la3bed', 345),\n",
              " ('marbouha', 342),\n",
              " ('3andi', 340),\n",
              " ('love', 339),\n",
              " ('twali', 339),\n",
              " ('hatha', 339),\n",
              " ('forza', 338),\n",
              " ('enty', 333),\n",
              " ('3ana', 331),\n",
              " ('ya3tik', 329),\n",
              " ('3lihom', 328),\n",
              " ('chnowa', 327),\n",
              " ('wahna', 327),\n",
              " ('chiboub', 327),\n",
              " ('lotfi', 326),\n",
              " ('3andek', 324),\n",
              " ('yekhdem', 322),\n",
              " ('kamel', 321),\n",
              " ('inta', 320),\n",
              " ('mazel', 319),\n",
              " ('hada', 315),\n",
              " ('fina', 310),\n",
              " ('inchala', 310),\n",
              " ('kanet', 309),\n",
              " ('lazem', 308),\n",
              " ('tayara', 304),\n",
              " ('nahna', 303),\n",
              " ('king', 301),\n",
              " ('lclub', 300),\n",
              " ('machalah', 299),\n",
              " ('ryahi', 297),\n",
              " ('winti', 295),\n",
              " ('kifek', 293),\n",
              " ('akbar', 292),\n",
              " ('kleb', 291),\n",
              " ('nayek', 290),\n",
              " ('wrabi', 290),\n",
              " ('bsaraha', 289),\n",
              " ('moncef', 287),\n",
              " ('walh', 287),\n",
              " ('ryehi', 281),\n",
              " ('3leh', 281),\n",
              " ('jam3eya', 279),\n",
              " ('berasmi', 277),\n",
              " ('equipe', 276),\n",
              " ('sanfara', 275),\n",
              " ('m3alim', 274),\n",
              " ('kont', 272),\n",
              " ('amin', 271),\n",
              " ('echa3b', 271),\n",
              " ('nhebou', 271),\n",
              " ('video', 268),\n",
              " ('normal', 268),\n",
              " ('adore', 268),\n",
              " ('like', 267),\n",
              " ('lina', 265),\n",
              " ('za3ma', 265),\n",
              " ('waktech', 265),\n",
              " ('boutoula', 265),\n",
              " ('tekhdem', 264),\n",
              " ('tahya', 264),\n",
              " ('joueur', 263),\n",
              " ('erajel', 262),\n",
              " ('miboun', 258),\n",
              " ('lezem', 258),\n",
              " ('clip', 257),\n",
              " ('match', 256),\n",
              " ('kadech', 255),\n",
              " ('chance', 254),\n",
              " ('menek', 254),\n",
              " ('zouz', 250),\n",
              " ('twensa', 250),\n",
              " ('continuation', 247),\n",
              " ('ykoun', 246),\n",
              " ('grand', 246),\n",
              " ('sbeh', 245),\n",
              " ('wasel', 244),\n",
              " ('yakhi', 244),\n",
              " ('yarhem', 243),\n",
              " ('rahom', 243),\n",
              " ('chbik', 242),\n",
              " ('hkeya', 242),\n",
              " ('3liha', 241),\n",
              " ('djabou', 241),\n",
              " ('bouk', 238),\n",
              " ('kifeh', 238),\n",
              " ('alexis', 238),\n",
              " ('bravobravo', 237),\n",
              " ('tous', 236),\n",
              " ('mahouch', 236),\n",
              " ('meli', 236),\n",
              " ('heka', 235),\n",
              " ('malem', 235),\n",
              " ('amine', 235),\n",
              " ('clubiste', 234),\n",
              " ('nabara', 234),\n",
              " ('jam3ya', 234),\n",
              " ('kolha', 233),\n",
              " ('a3mel', 233),\n",
              " ('film', 233),\n",
              " ('3andha', 231),\n",
              " ('ba3ed', 230),\n",
              " ('raja3', 230),\n",
              " ('thawra', 230),\n",
              " ('joumhour', 228),\n",
              " ('m3ek', 228),\n",
              " ('come', 228),\n",
              " ('denya', 227),\n",
              " ('titre', 226),\n",
              " ('wahid', 226),\n",
              " ('bilehi', 225),\n",
              " ('raho', 225),\n",
              " ('bele', 225),\n",
              " ('houa', 224),\n",
              " ('lyoum', 222),\n",
              " ('aman', 222),\n",
              " ('dislike', 221),\n",
              " ('hadhi', 220),\n",
              " ('hadi', 219),\n",
              " ('bina', 219),\n",
              " ('bras', 218),\n",
              " ('tout', 218),\n",
              " ('ta3ref', 217),\n",
              " ('chey', 216),\n",
              " ('kaleb', 215),\n",
              " ('tofla', 215),\n",
              " ('ma3adech', 214),\n",
              " ('entouma', 214),\n",
              " ('menou', 214),\n",
              " ('nahdha', 213),\n",
              " ('heya', 213),\n",
              " ('deja', 212),\n",
              " ('hedi', 212),\n",
              " ('barka', 211),\n",
              " ('rajil', 211),\n",
              " ('basem', 211),\n",
              " ('ghir', 210),\n",
              " ('3and', 210),\n",
              " ('ekher', 210),\n",
              " ('contre', 209),\n",
              " ('3idek', 209),\n",
              " ('youm', 208),\n",
              " ('jdida', 208),\n",
              " ('baba', 208),\n",
              " ('vrai', 206),\n",
              " ('chomage', 206),\n",
              " ('yechfih', 205),\n",
              " ('shiha', 205),\n",
              " ('yemchi', 205),\n",
              " ('bihom', 203),\n",
              " ('ka3ed', 203),\n",
              " ('akid', 203),\n",
              " ('walit', 203),\n",
              " ('meme', 201),\n",
              " ('yelzem', 201),\n",
              " ('hathi', 200),\n",
              " ('sidi', 199),\n",
              " ('zeyed', 199),\n",
              " ('sanfour', 197),\n",
              " ('nesma', 197),\n",
              " ('said', 196),\n",
              " ('mich', 194),\n",
              " ('zayed', 194),\n",
              " ('yarham', 193),\n",
              " ('alih', 193),\n",
              " ('quoi', 192),\n",
              " ('kolou', 191),\n",
              " ('fech', 191),\n",
              " ('menha', 191),\n",
              " ('parc', 190),\n",
              " ('3adi', 190),\n",
              " ('enchala', 190),\n",
              " ('walet', 190),\n",
              " ('khsara', 189),\n",
              " ('ataquant', 189),\n",
              " ('tnajem', 188),\n",
              " ('m3alam', 188),\n",
              " ('yarahmou', 187),\n",
              " ('mnin', 186),\n",
              " ('yaser', 185),\n",
              " ('belhak', 184),\n",
              " ('beha', 184),\n",
              " ('omha', 184),\n",
              " ('iheb', 184),\n",
              " ('zeby', 183),\n",
              " ('erjel', 183),\n",
              " ('lhak', 181),\n",
              " ('tabka', 181),\n",
              " ('hkeyet', 179),\n",
              " ('ghali', 179),\n",
              " ('trop', 179),\n",
              " ('leclub', 179),\n",
              " ('hana', 179),\n",
              " ('lahkeya', 178),\n",
              " ('m3akom', 177),\n",
              " ('bilahi', 176),\n",
              " ('beli', 176),\n",
              " ('sloma', 176),\n",
              " ('blad', 175),\n",
              " ('kamcha', 175),\n",
              " ('nchalh', 174),\n",
              " ('alina', 174),\n",
              " ('kais', 173),\n",
              " ('toul', 173),\n",
              " ('khit', 173),\n",
              " ('yhebou', 172),\n",
              " ('em3ak', 172),\n",
              " ('hahaha', 171),\n",
              " ('winou', 171),\n",
              " ('ywafkek', 170),\n",
              " ('thin', 170),\n",
              " ('louled', 170),\n",
              " ('bjeh', 170),\n",
              " ('chaine', 170),\n",
              " ('wakil', 170),\n",
              " ('zina', 169),\n",
              " ('fait', 168),\n",
              " ('rohek', 167),\n",
              " ('rakom', 167),\n",
              " ('menhom', 167),\n",
              " ('m3ahom', 167),\n",
              " ('mahich', 167),\n",
              " ('twansa', 167),\n",
              " ('chniya', 166),\n",
              " ('3mal', 165),\n",
              " ('lekher', 165),\n",
              " ('beji', 164),\n",
              " ('juste', 164),\n",
              " ('weldi', 164),\n",
              " ('awled', 162),\n",
              " ('bich', 161),\n",
              " ('salah', 161),\n",
              " ('fadina', 161),\n",
              " ('anta', 160),\n",
              " ('ched', 160),\n",
              " ('thib', 160),\n",
              " ('yetraba', 160),\n",
              " ('just', 160),\n",
              " ('saber', 160),\n",
              " ('rouhik', 160),\n",
              " ('politique', 159),\n",
              " ('leflous', 159),\n",
              " ('surtout', 158),\n",
              " ('kelma', 158),\n",
              " ('mohamed', 158),\n",
              " ('respect', 158),\n",
              " ('chnouwa', 158),\n",
              " ('zabour', 157),\n",
              " ('3leha', 157),\n",
              " ('joueurs', 157),\n",
              " ('ma3neha', 157),\n",
              " ('joueret', 157),\n",
              " ('a3la', 156),\n",
              " ('jamais', 155),\n",
              " ('kodem', 155),\n",
              " ('hani', 155),\n",
              " ('hiwar', 155),\n",
              " ('tchouf', 154),\n",
              " ('behya', 154),\n",
              " ('bhim', 154),\n",
              " ('a3lik', 154),\n",
              " ('efriki', 153),\n",
              " ('krib', 153),\n",
              " ('jemla', 153),\n",
              " ('abone', 152),\n",
              " ('temchi', 151),\n",
              " ('honte', 151),\n",
              " ('sarek', 150),\n",
              " ('chnia', 150),\n",
              " ('hajet', 150),\n",
              " ('manich', 150),\n",
              " ('chkon', 149),\n",
              " ('rouh', 149),\n",
              " ('klam', 149),\n",
              " ('stade', 149),\n",
              " ('haya', 148),\n",
              " ('wahra', 148),\n",
              " ('akal', 148),\n",
              " ('hamdi', 148),\n",
              " ('blasa', 148),\n",
              " ('jenjon', 147),\n",
              " ('libya', 147),\n",
              " ('ya3ref', 147),\n",
              " ('meskina', 147),\n",
              " ('thama', 147),\n",
              " ('kora', 147),\n",
              " ('blech', 147),\n",
              " ('home', 147),\n",
              " ('houkouma', 147),\n",
              " ('yezina', 146),\n",
              " ('3amlou', 146),\n",
              " ('mafamech', 146),\n",
              " ('bahi', 146),\n",
              " ('3maltou', 146),\n",
              " ('omou', 145),\n",
              " ('ykhalik', 145),\n",
              " ('salem', 144),\n",
              " ('tla3', 144),\n",
              " ('chab', 144),\n",
              " ('chbih', 144),\n",
              " ('homa', 143),\n",
              " ('mina', 143),\n",
              " ('wisem', 143),\n",
              " ('omkom', 143),\n",
              " ('kouki', 143),\n",
              " ('tbarkalah', 143),\n",
              " ('nkoul', 143),\n",
              " ('waldik', 142),\n",
              " ('ya3mlou', 142),\n",
              " ('flousek', 142),\n",
              " ('kalbi', 142),\n",
              " ('masakh', 142),\n",
              " ('yarhmo', 141),\n",
              " ('tjib', 141),\n",
              " ('viva', 141),\n",
              " ('mahou', 141),\n",
              " ('nhebek', 140),\n",
              " ('enas', 140),\n",
              " ('t3ich', 140),\n",
              " ('wini', 140),\n",
              " ('mahla', 140),\n",
              " ('3ali', 140),\n",
              " ('akher', 139),\n",
              " ('libled', 139),\n",
              " ('khra', 138),\n",
              " ('dandouk', 138),\n",
              " ('capo', 138),\n",
              " ('wenta', 138),\n",
              " ('dayma', 138),\n",
              " ('thebou', 138),\n",
              " ('thika', 138),\n",
              " ('hasbouna', 137),\n",
              " ('benzarti', 137),\n",
              " ('tahiya', 137),\n",
              " ('tarja3', 137),\n",
              " ('zboubna', 136),\n",
              " ('waktha', 136),\n",
              " ('3ada', 136),\n",
              " ('kanoun', 136),\n",
              " ('enahdha', 136),\n",
              " ('saybou', 136),\n",
              " ('jabri', 135),\n",
              " ('montasar', 135),\n",
              " ('rades', 135),\n",
              " ('fikou', 135),\n",
              " ('3alik', 135),\n",
              " ('mahleha', 135),\n",
              " ('heda', 135),\n",
              " ('alors', 135),\n",
              " ('ghalta', 134),\n",
              " ('bledna', 134),\n",
              " ('ejam3iya', 134),\n",
              " ('mnayek', 133),\n",
              " ('mechi', 133),\n",
              " ('wrak', 133),\n",
              " ('ywali', 133),\n",
              " ('from', 133),\n",
              " ('yabka', 132),\n",
              " ('ma3ak', 132),\n",
              " ('wili', 132),\n",
              " ('korsi', 132),\n",
              " ('baya', 132),\n",
              " ('char', 132),\n",
              " ('belek', 131),\n",
              " ('style', 131),\n",
              " ('mezel', 131),\n",
              " ('ma3a', 130),\n",
              " ('touns', 130),\n",
              " ('nidhal', 130),\n",
              " ('ykoul', 130),\n",
              " ('ghalia', 130),\n",
              " ('ensen', 130),\n",
              " ('lebes', 129),\n",
              " ('riyahi', 129),\n",
              " ('ausi', 129),\n",
              " ('mte3ek', 129),\n",
              " ('khoya', 129),\n",
              " ('idara', 129),\n",
              " ('cete', 129),\n",
              " ('na3ref', 129),\n",
              " ('ya3tek', 128),\n",
              " ('m3alm', 128),\n",
              " ('famech', 128),\n",
              " ('kolt', 128),\n",
              " ('jaime', 128),\n",
              " ('sebsi', 127),\n",
              " ('lbled', 127),\n",
              " ('kolhom', 127),\n",
              " ('enou', 127),\n",
              " ('akahaw', 127),\n",
              " ('etoile', 126),\n",
              " ('hand', 126),\n",
              " ('khalina', 126),\n",
              " ('aidek', 126),\n",
              " ('entraineur', 126),\n",
              " ('signaler', 126),\n",
              " ('gati', 125),\n",
              " ('bledi', 125),\n",
              " ('farekh', 125),\n",
              " ('eshih', 125),\n",
              " ('ya3ni', 124),\n",
              " ('kafon', 124),\n",
              " ('wild', 124),\n",
              " ('niveau', 124),\n",
              " ('ka3da', 123),\n",
              " ('fouk', 123),\n",
              " ('enfin', 123),\n",
              " ('koun', 123),\n",
              " ('waket', 123),\n",
              " ('karim', 122),\n",
              " ('etounsi', 122),\n",
              " ('nafs', 122),\n",
              " ('kifou', 122),\n",
              " ('nmout', 122),\n",
              " ('choufou', 122),\n",
              " ('nchoufou', 122),\n",
              " ('3malt', 122),\n",
              " ('ejam3ia', 122),\n",
              " ('ka3din', 122),\n",
              " ('makech', 122),\n",
              " ('kalek', 121),\n",
              " ('khalik', 121),\n",
              " ('faut', 121),\n",
              " ('zanatir', 121),\n",
              " ('deyma', 121),\n",
              " ('yarja3', 120),\n",
              " ('france', 120),\n",
              " ('hlowa', 120),\n",
              " ('coupe', 120),\n",
              " ('saye', 120),\n",
              " ('barnamej', 119),\n",
              " ('ma3k', 119),\n",
              " ('samahni', 119),\n",
              " ('ifriki', 119),\n",
              " ('ikoun', 118),\n",
              " ('amana', 118),\n",
              " ('samir', 118),\n",
              " ('ghneya', 118),\n",
              " ('mlih', 118),\n",
              " ('riehi', 118),\n",
              " ('nice', 117),\n",
              " ('yahya', 117),\n",
              " ('fema', 117),\n",
              " ('wehid', 117),\n",
              " ('b3id', 116),\n",
              " ('khawla', 116),\n",
              " ('haha', 116),\n",
              " ('bnet', 115),\n",
              " ('weldik', 115),\n",
              " ('ghodwa', 115),\n",
              " ('beaucoup', 115),\n",
              " ('bureau', 115),\n",
              " ('wena', 115),\n",
              " ('na3ma', 115),\n",
              " ('nkolek', 114),\n",
              " ('im3ak', 114),\n",
              " ('famile', 114),\n",
              " ('avant', 114),\n",
              " ('intikhabet', 114),\n",
              " ('khab', 113),\n",
              " ('barnemej', 113),\n",
              " ('yeziw', 113),\n",
              " ('mabrok', 113),\n",
              " ('hapy', 112),\n",
              " ('esaha', 112),\n",
              " ('yarhamha', 112),\n",
              " ('mkachakh', 112),\n",
              " ('minhom', 112),\n",
              " ('zada', 111),\n",
              " ('akthar', 111),\n",
              " ('3andna', 111),\n",
              " ('chway', 111),\n",
              " ('m3aha', 111),\n",
              " ('3omri', 111),\n",
              " ('faha', 111),\n",
              " ('ahsan', 110),\n",
              " ('ma3koul', 110),\n",
              " ('alech', 110),\n",
              " ('yonsrek', 110),\n",
              " ('ehna', 110),\n",
              " ('ynajem', 110),\n",
              " ('chokran', 109),\n",
              " ('3andhom', 109),\n",
              " ('wenchalah', 109),\n",
              " ('beki', 109),\n",
              " ('mchit', 109),\n",
              " ('oficiel', 109),\n",
              " ('besh', 109),\n",
              " ('tfih', 109),\n",
              " ('nhebouk', 108),\n",
              " ('mafama', 108),\n",
              " ('mariem', 108),\n",
              " ('nchouf', 108),\n",
              " ('sorek', 108),\n",
              " ('point', 108),\n",
              " ('sans', 108),\n",
              " ('death', 108),\n",
              " ('saison', 108),\n",
              " ('rouhi', 108),\n",
              " ('okhrej', 108),\n",
              " ('monsieur', 107),\n",
              " ('sousa', 107),\n",
              " ('leklem', 107),\n",
              " ('3omrou', 107),\n",
              " ('kolkom', 107),\n",
              " ('hkayet', 107),\n",
              " ('chalah', 106),\n",
              " ('wahdou', 106),\n",
              " ('ta3mlou', 106),\n",
              " ('tnik', 106),\n",
              " ('3amla', 106),\n",
              " ('kemla', 106),\n",
              " ('zawali', 105),\n",
              " ('sfax', 105),\n",
              " ('fort', 105),\n",
              " ('3alem', 105),\n",
              " ('flousou', 105),\n",
              " ('toujours', 105),\n",
              " ('ta3mil', 105),\n",
              " ('zaweli', 105),\n",
              " ('chneya', 105),\n",
              " ('3ando', 105),\n",
              " ('ya3tikom', 105),\n",
              " ('3amel', 105),\n",
              " ('habit', 104),\n",
              " ('bent', 104),\n",
              " ('haded', 104),\n",
              " ('rien', 104),\n",
              " ('tounsia', 104),\n",
              " ('aniversaire', 104),\n",
              " ('zantour', 104),\n",
              " ('comentaire', 104),\n",
              " ('rebi', 104),\n",
              " ('chabeb', 104),\n",
              " ('mesage', 104),\n",
              " ('khayeb', 104),\n",
              " ('nahi', 104),\n",
              " ('nafti', 104),\n",
              " ('note', 104),\n",
              " ('aleh', 104),\n",
              " ('3lach', 103),\n",
              " ('rwehkom', 103),\n",
              " ('kalo', 103),\n",
              " ('lkolna', 103),\n",
              " ('yched', 103),\n",
              " ('machi', 103),\n",
              " ('fehom', 103),\n",
              " ('ilkol', 102),\n",
              " ('kharej', 102),\n",
              " ('likom', 102),\n",
              " ('retour', 102),\n",
              " ('nhib', 102),\n",
              " ('talka', 102),\n",
              " ('mezyena', 102),\n",
              " ('chmeta', 102),\n",
              " ('tzid', 102),\n",
              " ('koli', 101),\n",
              " ('meskin', 101),\n",
              " ('alahou', 101),\n",
              " ('tartour', 101),\n",
              " ('raji3oun', 101),\n",
              " ('amena', 101),\n",
              " ('m3lem', 101),\n",
              " ('fehri', 101),\n",
              " ('rasek', 101),\n",
              " ('frere', 101),\n",
              " ('ghaleb', 101),\n",
              " ('tefhem', 101),\n",
              " ('nour', 101),\n",
              " ('yarhmek', 101),\n",
              " ('alikom', 100),\n",
              " ('batal', 100),\n",
              " ('chapeau', 100),\n",
              " ('lfriki', 100),\n",
              " ('minou', 100),\n",
              " ('walid', 100),\n",
              " ('raha', 100),\n",
              " ('mout', 100),\n",
              " ('ghadi', 100),\n",
              " ('faire', 100),\n",
              " ('machrou3', 100),\n",
              " ('rjal', 100),\n",
              " ('algerie', 100),\n",
              " ('lkhir', 100),\n",
              " ('eryehi', 99),\n",
              " ('rachwa', 99),\n",
              " ('franca', 99),\n",
              " ('madem', 99),\n",
              " ('eryahi', 99),\n",
              " ('hahahaha', 99),\n",
              " ('3sal', 99),\n",
              " ('moins', 99),\n",
              " ('minha', 99),\n",
              " ('hamla', 99),\n",
              " ('halka', 99),\n",
              " ('wila', 98),\n",
              " ('sidek', 98),\n",
              " ('medeb', 98),\n",
              " ('idha', 97),\n",
              " ('maya', 97),\n",
              " ('ahmed', 97),\n",
              " ('hamza', 97),\n",
              " ('anti', 97),\n",
              " ('kenet', 97),\n",
              " ('froukh', 97),\n",
              " ('andek', 97),\n",
              " ('intouma', 96),\n",
              " ('mte3ou', 96),\n",
              " ('mta3ek', 96),\n",
              " ('semi', 96),\n",
              " ('na3mlou', 96),\n",
              " ('saif', 96),\n",
              " ('jeya', 96),\n",
              " ('ysir', 96),\n",
              " ('yehdik', 96),\n",
              " ('sbah', 96),\n",
              " ('projet', 95),\n",
              " ('mcha', 95),\n",
              " ('omhom', 95),\n",
              " ('echa3eb', 95),\n",
              " ('fekra', 95),\n",
              " ('sayed', 95),\n",
              " ('bkodret', 95),\n",
              " ('kadeh', 95),\n",
              " ('veut', 95),\n",
              " ('hamdoulah', 95),\n",
              " ('yefhem', 94),\n",
              " ('ghalya', 94),\n",
              " ('minek', 94),\n",
              " ('klemek', 94),\n",
              " ('mridh', 94),\n",
              " ('belhi', 94),\n",
              " ('mena', 94),\n",
              " ('bikom', 93),\n",
              " ('tfou', 93),\n",
              " ('tehki', 93),\n",
              " ('sout', 93),\n",
              " ('moufida', 93),\n",
              " ('melekher', 93),\n",
              " ('andou', 93),\n",
              " ('ataw', 93),\n",
              " ('ahki', 93),\n",
              " ('3awra', 93),\n",
              " ('akeka', 93),\n",
              " ('hakeka', 93),\n",
              " ('pivot', 93),\n",
              " ('hasilou', 93),\n",
              " ('mili', 92),\n",
              " ('serek', 92),\n",
              " ('djabo', 92),\n",
              " ('jana', 92),\n",
              " ('omik', 92),\n",
              " ('ntouma', 92),\n",
              " ('elkhir', 92),\n",
              " ('mehri', 92),\n",
              " ('mochkla', 91),\n",
              " ('masta', 91),\n",
              " ('lkahba', 91),\n",
              " ('yahmik', 91),\n",
              " ('yarhamhom', 91),\n",
              " ('khidma', 91),\n",
              " ('siyesa', 91),\n",
              " ('martou', 91),\n",
              " ('ya3koubi', 91),\n",
              " ('lahasa', 90),\n",
              " ('jami3', 90),\n",
              " ('3morha', 90),\n",
              " ('youtube', 90),\n",
              " ('rouhk', 90),\n",
              " ('mazal', 90),\n",
              " ('zgaw', 90),\n",
              " ('leblad', 89),\n",
              " ('batala', 89),\n",
              " ('jmal', 89),\n",
              " ('lotf', 89),\n",
              " ('hkaya', 89),\n",
              " ('maryoul', 89),\n",
              " ('rayou', 89),\n",
              " ('importe', 89),\n",
              " ('siyasa', 88),\n",
              " ('dhaher', 88),\n",
              " ('domage', 88),\n",
              " ('samara', 88),\n",
              " ('lkolha', 88),\n",
              " ('elhak', 88),\n",
              " ('manel', 88),\n",
              " ('chnwa', 88),\n",
              " ('mahsoub', 88),\n",
              " ('lougha', 88),\n",
              " ('enabara', 88),\n",
              " ('terbah', 88),\n",
              " ('basket', 88),\n",
              " ('admin', 87),\n",
              " ('chnawa', 87),\n",
              " ('wahd', 87),\n",
              " ('techri', 87),\n",
              " ('bilel', 87),\n",
              " ('kemel', 87),\n",
              " ('kona', 87),\n",
              " ('fehria', 87),\n",
              " ('amar', 87),\n",
              " ('bonjour', 87),\n",
              " ('jibelna', 87),\n",
              " ('yatik', 87),\n",
              " ('insen', 87),\n",
              " ('entom', 86),\n",
              " ('mnayka', 86),\n",
              " ('kher', 86),\n",
              " ('wlad', 86),\n",
              " ('bajbouj', 86),\n",
              " ('tared', 86),\n",
              " ('ghoul', 86),\n",
              " ('rayes', 86),\n",
              " ('hezb', 86),\n",
              " ('tunisien', 85),\n",
              " ('omok', 85),\n",
              " ('machari3', 85),\n",
              " ('ma3lem', 85),\n",
              " ('het', 85),\n",
              " ('jboura', 85),\n",
              " ('wentouma', 85),\n",
              " ('mashalah', 85),\n",
              " ('3omra', 84),\n",
              " ('partie', 84),\n",
              " ('ghalet', 84),\n",
              " ('going', 84),\n",
              " ('barsha', 84),\n",
              " ('much', 84),\n",
              " ('ya3mil', 84),\n",
              " ('na3rfou', 84),\n",
              " ('wakteh', 84),\n",
              " ('yehdi', 84),\n",
              " ('alex', 84),\n",
              " ('hkouma', 84),\n",
              " ('hama', 84),\n",
              " ('sayer', 84),\n",
              " ('gafsa', 84),\n",
              " ('ilayhi', 83),\n",
              " ('kolo', 83),\n",
              " ('salam', 83),\n",
              " ('alahoma', 83),\n",
              " ('dakhel', 83),\n",
              " ('wehd', 83),\n",
              " ('hacha', 83),\n",
              " ('tarikh', 83),\n",
              " ('malyoun', 83),\n",
              " ('l3ar', 83),\n",
              " ('khatr', 83),\n",
              " ('bachir', 83),\n",
              " ('3andik', 83),\n",
              " ('tsir', 82),\n",
              " ('raison', 82),\n",
              " ('emision', 82),\n",
              " ('salouma', 82),\n",
              " ('chad', 82),\n",
              " ('amal', 82),\n",
              " ('bouh', 82),\n",
              " ('khayba', 82),\n",
              " ('sghir', 82),\n",
              " ('mahleh', 82),\n",
              " ('nhbk', 82),\n",
              " ('forsa', 82),\n",
              " ('manoula', 82),\n",
              " ('selim', 82),\n",
              " ('clubistia', 82),\n",
              " ('kbar', 82),\n",
              " ('travailer', 82),\n",
              " ('louhichi', 81),\n",
              " ('yechfik', 81),\n",
              " ('sbab', 81),\n",
              " ('bouzid', 81),\n",
              " ('karti', 81),\n",
              " ('fransa', 81),\n",
              " ('raw3a', 81),\n",
              " ('manech', 81),\n",
              " ('najeh', 81),\n",
              " ('tele', 81),\n",
              " ('3andkom', 81),\n",
              " ('vote', 81),\n",
              " ('mois', 81),\n",
              " ('virage', 81),\n",
              " ('yousef', 81),\n",
              " ('mche', 81),\n",
              " ('cheb', 80),\n",
              " ('nestana', 80),\n",
              " ('lahram', 80),\n",
              " ('sport', 80),\n",
              " ('bjah', 80),\n",
              " ('apres', 80),\n",
              " ('brcha', 80),\n",
              " ('normalement', 80),\n",
              " ('mahma', 80),\n",
              " ('3ayla', 80),\n",
              " ('esmou', 80),\n",
              " ('media', 80),\n",
              " ('a3tina', 80),\n",
              " ('thez', 80),\n",
              " ('choix', 80),\n",
              " ('edawla', 80),\n",
              " ('wkol', 79),\n",
              " ('ykoulou', 79),\n",
              " ('ariere', 79),\n",
              " ('sghar', 79),\n",
              " ('maset', 79),\n",
              " ('klab', 79),\n",
              " ('grave', 79),\n",
              " ...]"
            ]
          },
          "metadata": {
            "tags": []
          },
          "execution_count": 34
        }
      ]
    },
    {
      "cell_type": "code",
      "metadata": {
        "id": "cXmPhsafpwfe",
        "colab": {
          "base_uri": "https://localhost:8080/"
        },
        "outputId": "3f802bb3-0a4f-488a-9956-64c736173ea0"
      },
      "source": [
        "len(counter)"
      ],
      "execution_count": null,
      "outputs": [
        {
          "output_type": "execute_result",
          "data": {
            "text/plain": [
              "146106"
            ]
          },
          "metadata": {
            "tags": []
          },
          "execution_count": 35
        }
      ]
    },
    {
      "cell_type": "code",
      "metadata": {
        "id": "UJcgPFfPpwfe"
      },
      "source": [
        "num_unique_words = len(counter)"
      ],
      "execution_count": null,
      "outputs": []
    },
    {
      "cell_type": "code",
      "metadata": {
        "id": "96EGRtlvpwfe"
      },
      "source": [
        "train_ds = train_ds.sample(frac=1).reset_index(drop=True)\n",
        "cut = 60000\n",
        "test_reviews = train_ds.text[cut:].to_numpy()\n",
        "test_labels = train_ds.label[cut:].to_numpy()\n",
        "train_reviews = train_ds.text[:cut].to_numpy()\n",
        "train_labels = train_ds.label[:cut].to_numpy()"
      ],
      "execution_count": null,
      "outputs": []
    },
    {
      "cell_type": "code",
      "metadata": {
        "id": "uIpEVODJpwfe",
        "colab": {
          "base_uri": "https://localhost:8080/"
        },
        "outputId": "9613a028-6c24-4930-cb5e-800b9828e175"
      },
      "source": [
        "train_reviews.shape, test_reviews.shape"
      ],
      "execution_count": null,
      "outputs": [
        {
          "output_type": "execute_result",
          "data": {
            "text/plain": [
              "((60000,), (10000,))"
            ]
          },
          "metadata": {
            "tags": []
          },
          "execution_count": 38
        }
      ]
    },
    {
      "cell_type": "code",
      "metadata": {
        "id": "IeP1A7jKpwff"
      },
      "source": [
        "trunc_type='post'\n",
        "oov_tok = \"<OOV>\"\n",
        "\n",
        "from tensorflow.keras.preprocessing.text import Tokenizer\n",
        "\n",
        "tokenizer = Tokenizer(num_words=num_unique_words, oov_token=oov_tok)\n",
        "tokenizer.fit_on_texts(train_reviews)"
      ],
      "execution_count": null,
      "outputs": []
    },
    {
      "cell_type": "code",
      "metadata": {
        "id": "CskIT0Rrpwfg"
      },
      "source": [
        "word_index = tokenizer.word_index"
      ],
      "execution_count": null,
      "outputs": []
    },
    {
      "cell_type": "code",
      "metadata": {
        "id": "fmZkxHCtpwfg"
      },
      "source": [
        "train_sequences = tokenizer.texts_to_sequences(train_reviews)"
      ],
      "execution_count": null,
      "outputs": []
    },
    {
      "cell_type": "code",
      "metadata": {
        "id": "d4sCxV2Opwfg",
        "colab": {
          "base_uri": "https://localhost:8080/"
        },
        "outputId": "16f41f5a-d50d-411b-b18c-a1d95dd0c7d3"
      },
      "source": [
        "print(train_reviews[10:15])\n",
        "print(train_sequences[10:15])"
      ],
      "execution_count": null,
      "outputs": [
        {
          "output_type": "stream",
          "text": [
            "['patron m3adabhom rois'\n",
            " 'tared 3lena lbenzarti wnehlna barcha amarek m3ak flkoumita jiblna entreneur kbir kima wyzina mlaflam mta3ak'\n",
            " 'nice photoshop nahdha'\n",
            " 'chika groupes hethi ynajim yaemel haja wakt jena maenech jouerete equipe ferga chaksitou kwia yaeref ywasel mesage jouerete'\n",
            " 'winou']\n",
            "[[78, 10460, 18261], [709, 8686, 5186, 30306, 10, 30307, 8, 30308, 10461, 927, 89, 35, 30309, 30310, 8687], [633, 6476, 383], [13261, 13262, 187, 3991, 30311, 26, 201, 2571, 30312, 3705, 258, 5759, 30313, 5187, 30314, 3706, 668, 3705], [485]]\n"
          ],
          "name": "stdout"
        }
      ]
    },
    {
      "cell_type": "code",
      "metadata": {
        "id": "3ndo7rg8pwfg",
        "colab": {
          "base_uri": "https://localhost:8080/"
        },
        "outputId": "53618342-6b27-4254-9b17-d18ffc6284b1"
      },
      "source": [
        "from tensorflow.keras.preprocessing.sequence import pad_sequences\n",
        "\n",
        "max_length = 30\n",
        "\n",
        "train_padded = pad_sequences(train_sequences, maxlen=max_length, padding=\"post\", truncating=\"post\")\n",
        "\n",
        "train_padded.shape"
      ],
      "execution_count": null,
      "outputs": [
        {
          "output_type": "execute_result",
          "data": {
            "text/plain": [
              "(60000, 30)"
            ]
          },
          "metadata": {
            "tags": []
          },
          "execution_count": 43
        }
      ]
    },
    {
      "cell_type": "code",
      "metadata": {
        "id": "_MTaps84pwfg",
        "colab": {
          "base_uri": "https://localhost:8080/"
        },
        "outputId": "05a979b1-b27f-4924-80a6-0133c97b7e32"
      },
      "source": [
        "model = keras.models.Sequential()\n",
        "\n",
        "model.add(layers.Embedding(num_unique_words, 64, input_length=max_length))\n",
        "\n",
        "model.add(layers.Bidirectional(layers.LSTM(64)))\n",
        "\n",
        "model.add(layers.Dense(64, activation=\"relu\"))\n",
        "\n",
        "model.add(layers.Dense(1,activation=\"sigmoid\"))\n",
        "\n",
        "model.summary()"
      ],
      "execution_count": null,
      "outputs": [
        {
          "output_type": "stream",
          "text": [
            "Model: \"sequential\"\n",
            "_________________________________________________________________\n",
            "Layer (type)                 Output Shape              Param #   \n",
            "=================================================================\n",
            "embedding (Embedding)        (None, 30, 64)            9350784   \n",
            "_________________________________________________________________\n",
            "bidirectional (Bidirectional (None, 30, 128)           66048     \n",
            "_________________________________________________________________\n",
            "bidirectional_1 (Bidirection (None, 128)               98816     \n",
            "_________________________________________________________________\n",
            "dense (Dense)                (None, 64)                8256      \n",
            "_________________________________________________________________\n",
            "dense_1 (Dense)              (None, 1)                 65        \n",
            "=================================================================\n",
            "Total params: 9,523,969\n",
            "Trainable params: 9,523,969\n",
            "Non-trainable params: 0\n",
            "_________________________________________________________________\n"
          ],
          "name": "stdout"
        }
      ]
    },
    {
      "cell_type": "code",
      "metadata": {
        "id": "mRcopGTVpwfh"
      },
      "source": [
        "class myCallback(tf.keras.callbacks.Callback):\n",
        "  def on_epoch_end(self, epoch, logs={}):\n",
        "    if(logs.get('val_accuracy')>0.9):\n",
        "      print(\"\\nReached 93% accuracy\")\n",
        "      self.model.stop_training = True\n",
        "callback = myCallback()"
      ],
      "execution_count": null,
      "outputs": []
    },
    {
      "cell_type": "code",
      "metadata": {
        "id": "boEIJbkvpwfh"
      },
      "source": [
        "loss = 'binary_crossentropy'\n",
        "optimizer = 'adam'\n",
        "metrics = [\"accuracy\"]\n",
        "\n",
        "model.compile(loss=loss, optimizer=optimizer, metrics=metrics)"
      ],
      "execution_count": null,
      "outputs": []
    },
    {
      "cell_type": "code",
      "metadata": {
        "id": "nlI2eOtHt53o"
      },
      "source": [
        "def sample_data():\n",
        "    test_sequences = tokenizer.texts_to_sequences(test_reviews)\n",
        "    test_padded = pad_sequences(test_sequences, maxlen=max_length, padding=\"post\", truncating=\"post\")\n",
        "    return test_padded, test_labels"
      ],
      "execution_count": null,
      "outputs": []
    },
    {
      "cell_type": "code",
      "metadata": {
        "scrolled": true,
        "id": "3kFQoELdpwfh",
        "colab": {
          "base_uri": "https://localhost:8080/"
        },
        "outputId": "bd6d23d5-efa6-4a2c-fe93-5c9c8ba569c1"
      },
      "source": [
        "history = model.fit(train_padded,train_labels,epochs=3,validation_data=(sample_data()), callbacks=[callback])"
      ],
      "execution_count": null,
      "outputs": [
        {
          "output_type": "stream",
          "text": [
            "Epoch 1/20\n",
            "1875/1875 [==============================] - 319s 167ms/step - loss: 0.4754 - accuracy: 0.7594 - val_loss: 0.3853 - val_accuracy: 0.8230\n",
            "Epoch 2/20\n",
            "1875/1875 [==============================] - 311s 166ms/step - loss: 0.1856 - accuracy: 0.9294 - val_loss: 0.4418 - val_accuracy: 0.8076\n",
            "Epoch 3/20\n",
            "1875/1875 [==============================] - 313s 167ms/step - loss: 0.0818 - accuracy: 0.9712 - val_loss: 0.5751 - val_accuracy: 0.8029\n",
            "Epoch 4/20\n",
            "1875/1875 [==============================] - 311s 166ms/step - loss: 0.0499 - accuracy: 0.9823 - val_loss: 0.6345 - val_accuracy: 0.7959\n",
            "Epoch 5/20\n",
            "1875/1875 [==============================] - 312s 166ms/step - loss: 0.0335 - accuracy: 0.9868 - val_loss: 0.9054 - val_accuracy: 0.7945\n",
            "Epoch 6/20\n",
            "1875/1875 [==============================] - 312s 166ms/step - loss: 0.0262 - accuracy: 0.9891 - val_loss: 0.9336 - val_accuracy: 0.7923\n",
            "Epoch 7/20\n",
            "1875/1875 [==============================] - 313s 167ms/step - loss: 0.0221 - accuracy: 0.9909 - val_loss: 0.9704 - val_accuracy: 0.7924\n",
            "Epoch 8/20\n",
            "1875/1875 [==============================] - 315s 168ms/step - loss: 0.0197 - accuracy: 0.9920 - val_loss: 1.0104 - val_accuracy: 0.7887\n",
            "Epoch 9/20\n",
            "1875/1875 [==============================] - 314s 167ms/step - loss: 0.0171 - accuracy: 0.9927 - val_loss: 0.9813 - val_accuracy: 0.7876\n",
            "Epoch 10/20\n",
            "1875/1875 [==============================] - 312s 167ms/step - loss: 0.0166 - accuracy: 0.9932 - val_loss: 1.1608 - val_accuracy: 0.7904\n",
            "Epoch 11/20\n",
            "1875/1875 [==============================] - 314s 167ms/step - loss: 0.0153 - accuracy: 0.9932 - val_loss: 1.4150 - val_accuracy: 0.7765\n",
            "Epoch 12/20\n",
            "1875/1875 [==============================] - 314s 167ms/step - loss: 0.0153 - accuracy: 0.9930 - val_loss: 1.0522 - val_accuracy: 0.7859\n",
            "Epoch 13/20\n",
            "1875/1875 [==============================] - 313s 167ms/step - loss: 0.0131 - accuracy: 0.9946 - val_loss: 1.2386 - val_accuracy: 0.7847\n",
            "Epoch 14/20\n",
            "1875/1875 [==============================] - 314s 167ms/step - loss: 0.0122 - accuracy: 0.9948 - val_loss: 1.1156 - val_accuracy: 0.7849\n",
            "Epoch 15/20\n",
            "1875/1875 [==============================] - 311s 166ms/step - loss: 0.0122 - accuracy: 0.9947 - val_loss: 1.3181 - val_accuracy: 0.7862\n",
            "Epoch 16/20\n",
            "1875/1875 [==============================] - 308s 164ms/step - loss: 0.0123 - accuracy: 0.9947 - val_loss: 1.1993 - val_accuracy: 0.7903\n",
            "Epoch 17/20\n",
            "1875/1875 [==============================] - 309s 165ms/step - loss: 0.0109 - accuracy: 0.9955 - val_loss: 1.2097 - val_accuracy: 0.7718\n",
            "Epoch 18/20\n",
            "1875/1875 [==============================] - 310s 166ms/step - loss: 0.0117 - accuracy: 0.9948 - val_loss: 1.3636 - val_accuracy: 0.7783\n",
            "Epoch 19/20\n",
            "1875/1875 [==============================] - 310s 165ms/step - loss: 0.0108 - accuracy: 0.9955 - val_loss: 1.6072 - val_accuracy: 0.7751\n",
            "Epoch 20/20\n",
            "1875/1875 [==============================] - 312s 166ms/step - loss: 0.0108 - accuracy: 0.9954 - val_loss: 1.2990 - val_accuracy: 0.7793\n"
          ],
          "name": "stdout"
        }
      ]
    },
    {
      "cell_type": "code",
      "metadata": {
        "colab": {
          "base_uri": "https://localhost:8080/",
          "height": 541
        },
        "id": "96jcbcKX1Axx",
        "outputId": "2b47cbd6-ed34-427d-a3aa-85f3b01679c7"
      },
      "source": [
        "import matplotlib.pyplot as plt\n",
        "\n",
        "\n",
        "def plot_graphs(history, string):\n",
        "  plt.plot(history.history[string])\n",
        "  plt.plot(history.history['val_'+string])\n",
        "  plt.xlabel(\"Epochs\")\n",
        "  plt.ylabel(string)\n",
        "  plt.legend([string, 'val_'+string])\n",
        "  plt.show()\n",
        "  \n",
        "plot_graphs(history, \"accuracy\")\n",
        "plot_graphs(history, \"loss\")"
      ],
      "execution_count": null,
      "outputs": [
        {
          "output_type": "display_data",
          "data": {
            "image/png": "[encoded data removed]",
            "text/plain": [
              "<Figure size 432x288 with 1 Axes>"
            ]
          },
          "metadata": {
            "tags": [],
            "needs_background": "light"
          }
        },
        {
          "output_type": "display_data",
          "data": {
            "image/png": "[encoded data removed]",
            "text/plain": [
              "<Figure size 432x288 with 1 Axes>"
            ]
          },
          "metadata": {
            "tags": [],
            "needs_background": "light"
          }
        }
      ]
    },
    {
      "cell_type": "code",
      "metadata": {
        "id": "poRLXCEoTeiT"
      },
      "source": [
        "def preprocess(text):\n",
        "    text = remove_url(text)\n",
        "    text = remove_punct(text)\n",
        "    text = remove_stopwords(text)\n",
        "    text = remove_useless(text)\n",
        "    text = lemmatize_text(text)\n",
        "    text = negate_words(text)\n",
        "    sequences = tokenizer.texts_to_sequences([text])\n",
        "    padded = pad_sequences(sequences, maxlen=max_length, padding=\"post\", truncating=\"post\")\n",
        "    return padded"
      ],
      "execution_count": null,
      "outputs": []
    },
    {
      "cell_type": "code",
      "metadata": {
        "id": "G_AXHAvWpwfi"
      },
      "source": [
        "def predict(padded):\n",
        "    predictions = [1 if p> 0.4 else -1 for p in model.predict(padded)]\n",
        "    return predictions"
      ],
      "execution_count": null,
      "outputs": []
    },
    {
      "cell_type": "code",
      "metadata": {
        "id": "YOlAhBvFvz8v"
      },
      "source": [
        "def preprocess_many(texts):\n",
        "    for text in texts:\n",
        "        i = texts.index(text)\n",
        "        text = lower_text(text)\n",
        "        text = remove_emails(text)\n",
        "        text = remove_urls(text)\n",
        "        text = remove_rt(text)\n",
        "        text = remove_special_chars(text)\n",
        "        text = remove_accented_chars(text)\n",
        "        text = reshape_words(text)\n",
        "        text = regroup_words(text)\n",
        "        text = remove_special(text)\n",
        "        text = remove_stopwords(text)\n",
        "        text = remove_useless(text)\n",
        "        texts[i] = text\n",
        "    sequences = tokenizer.texts_to_sequences(texts)\n",
        "    padded = pad_sequences(sequences, maxlen=max_length, padding=\"post\", truncating=\"post\")\n",
        "    return padded"
      ],
      "execution_count": null,
      "outputs": []
    },
    {
      "cell_type": "code",
      "metadata": {
        "id": "XjScCCIXpwfi"
      },
      "source": [
        "texts = list(test_ds.text[:])\n",
        "preprocessed = preprocess_many(texts)"
      ],
      "execution_count": null,
      "outputs": []
    },
    {
      "cell_type": "code",
      "metadata": {
        "id": "mFHxK4wCI-31"
      },
      "source": [
        "predictions = predict(preprocessed)"
      ],
      "execution_count": null,
      "outputs": []
    },
    {
      "cell_type": "code",
      "metadata": {
        "id": "FPLsM4e80txR",
        "colab": {
          "base_uri": "https://localhost:8080/"
        },
        "outputId": "0920f398-0869-4d3c-9555-dac68f5c0e2d"
      },
      "source": [
        "test_ds.shape"
      ],
      "execution_count": null,
      "outputs": [
        {
          "output_type": "execute_result",
          "data": {
            "text/plain": [
              "(30000, 2)"
            ]
          },
          "metadata": {
            "tags": []
          },
          "execution_count": 47
        }
      ]
    },
    {
      "cell_type": "code",
      "metadata": {
        "id": "_pO4qoChpwfi",
        "colab": {
          "base_uri": "https://localhost:8080/"
        },
        "outputId": "9f2113dc-d848-43bd-8250-425bd22824dd"
      },
      "source": [
        "print(texts[3505:3510])\n",
        "print(predictions[3505:3510])"
      ],
      "execution_count": null,
      "outputs": [
        {
          "output_type": "stream",
          "text": [
            "['maneha thebou tkoulou edhoukom khir lotfi ebdeli zayed chab mounefak', 'nik omek slim ryehi allah yahrak weldik khamej latbereklek khrebt club', 'rabi elahena behweyjina moch bilebachar machakelha andi mankolek', 'theb tamel lkhir emchi ahya lfakira mouch alina facebok malem', 'khsara tmanit nkoun nachit fara fousana wileyt kaserine wmajmoua kbira andha thika kbira mastajabtouch lina nitak jihawi nitak watani baid aladid mina albarkiyet']\n",
            "[-1, -1, 1, 1, -1]\n"
          ],
          "name": "stdout"
        }
      ]
    },
    {
      "cell_type": "code",
      "metadata": {
        "id": "qmFf-9Y4pwfj"
      },
      "source": [
        "submission = pd.DataFrame({\"ID\": test_ds[\"ID\"], \"label\": predictions})"
      ],
      "execution_count": null,
      "outputs": []
    },
    {
      "cell_type": "code",
      "metadata": {
        "id": "cuUoaLDIwl3P",
        "colab": {
          "base_uri": "https://localhost:8080/",
          "height": 195
        },
        "outputId": "01d88ad0-33c8-408b-ae03-5aedd1b72ac1"
      },
      "source": [
        "submission.head()"
      ],
      "execution_count": null,
      "outputs": [
        {
          "output_type": "execute_result",
          "data": {
            "text/html": [
              "<div>\n",
              "<style scoped>\n",
              "    .dataframe tbody tr th:only-of-type {\n",
              "        vertical-align: middle;\n",
              "    }\n",
              "\n",
              "    .dataframe tbody tr th {\n",
              "        vertical-align: top;\n",
              "    }\n",
              "\n",
              "    .dataframe thead th {\n",
              "        text-align: right;\n",
              "    }\n",
              "</style>\n",
              "<table border=\"1\" class=\"dataframe\">\n",
              "  <thead>\n",
              "    <tr style=\"text-align: right;\">\n",
              "      <th></th>\n",
              "      <th>ID</th>\n",
              "      <th>label</th>\n",
              "    </tr>\n",
              "  </thead>\n",
              "  <tbody>\n",
              "    <tr>\n",
              "      <th>0</th>\n",
              "      <td>2DDHQW9</td>\n",
              "      <td>1</td>\n",
              "    </tr>\n",
              "    <tr>\n",
              "      <th>1</th>\n",
              "      <td>5HY6UEY</td>\n",
              "      <td>-1</td>\n",
              "    </tr>\n",
              "    <tr>\n",
              "      <th>2</th>\n",
              "      <td>ATNVUJX</td>\n",
              "      <td>1</td>\n",
              "    </tr>\n",
              "    <tr>\n",
              "      <th>3</th>\n",
              "      <td>Q9XYVOQ</td>\n",
              "      <td>-1</td>\n",
              "    </tr>\n",
              "    <tr>\n",
              "      <th>4</th>\n",
              "      <td>TOAHLRH</td>\n",
              "      <td>1</td>\n",
              "    </tr>\n",
              "  </tbody>\n",
              "</table>\n",
              "</div>"
            ],
            "text/plain": [
              "        ID  label\n",
              "0  2DDHQW9      1\n",
              "1  5HY6UEY     -1\n",
              "2  ATNVUJX      1\n",
              "3  Q9XYVOQ     -1\n",
              "4  TOAHLRH      1"
            ]
          },
          "metadata": {
            "tags": []
          },
          "execution_count": 92
        }
      ]
    },
    {
      "cell_type": "code",
      "metadata": {
        "id": "0yfKj8-GyYPM"
      },
      "source": [
        "submission.to_csv('34.csv', index = False)"
      ],
      "execution_count": null,
      "outputs": []
    },
    {
      "cell_type": "code",
      "metadata": {
        "id": "jpPwqZQdIl53"
      },
      "source": [
        ""
      ],
      "execution_count": null,
      "outputs": []
    }
  ]
}
